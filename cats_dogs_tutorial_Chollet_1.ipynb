{
 "cells": [
  {
   "cell_type": "markdown",
   "metadata": {},
   "source": [
    "### Librerías"
   ]
  },
  {
   "cell_type": "code",
   "execution_count": 36,
   "metadata": {},
   "outputs": [],
   "source": [
    "from keras.preprocessing.image import ImageDataGenerator\n",
    "from keras.models import Sequential\n",
    "from keras.layers import Conv2D, MaxPooling2D\n",
    "from keras.layers import Activation, Dropout, Flatten, Dense\n",
    "from keras.callbacks import TensorBoard\n",
    "from keras import backend as K\n",
    "from matplotlib import pyplot as plt"
   ]
  },
  {
   "cell_type": "markdown",
   "metadata": {},
   "source": [
    "### preparación de las imágenes"
   ]
  },
  {
   "cell_type": "code",
   "execution_count": 29,
   "metadata": {},
   "outputs": [],
   "source": [
    "# dimensions of our images.\n",
    "img_width, img_height = 150, 150\n",
    "\n",
    "train_data_dir = 'C:/Users/casa/.kaggle/competitions/dogs-vs-cats-redux-kernels-edition/data/train'\n",
    "validation_data_dir = 'C:/Users/casa/.kaggle/competitions/dogs-vs-cats-redux-kernels-edition/data/validation'\n",
    "nb_train_samples = 2000\n",
    "nb_validation_samples = 800\n",
    "epochs = 50\n",
    "batch_size = 16\n",
    "\n",
    "if K.image_data_format() == 'channels_first':\n",
    "    input_shape = (3, img_width, img_height)\n",
    "else:\n",
    "    input_shape = (img_width, img_height, 3)"
   ]
  },
  {
   "cell_type": "markdown",
   "metadata": {},
   "source": [
    "### Definición de la arquitectura de la red"
   ]
  },
  {
   "cell_type": "code",
   "execution_count": 30,
   "metadata": {},
   "outputs": [],
   "source": [
    "model = Sequential()\n",
    "model.add(Conv2D(32, (3, 3), input_shape=input_shape))\n",
    "model.add(Activation('relu'))\n",
    "model.add(MaxPooling2D(pool_size=(2, 2)))\n",
    "\n",
    "model.add(Conv2D(32, (3, 3)))\n",
    "model.add(Activation('relu'))\n",
    "model.add(MaxPooling2D(pool_size=(2, 2)))\n",
    "\n",
    "model.add(Conv2D(64, (3, 3)))\n",
    "model.add(Activation('relu'))\n",
    "model.add(MaxPooling2D(pool_size=(2, 2)))\n",
    "\n",
    "model.add(Flatten())\n",
    "model.add(Dense(64))\n",
    "model.add(Activation('relu'))\n",
    "model.add(Dropout(0.5))\n",
    "model.add(Dense(1))\n",
    "model.add(Activation('sigmoid'))\n",
    "\n",
    "model.compile(loss='binary_crossentropy',\n",
    "              optimizer='rmsprop',\n",
    "              metrics=['accuracy'])"
   ]
  },
  {
   "cell_type": "markdown",
   "metadata": {},
   "source": [
    "### Definición de data augmentation"
   ]
  },
  {
   "cell_type": "code",
   "execution_count": 31,
   "metadata": {},
   "outputs": [],
   "source": [
    "# this is the augmentation configuration we will use for training\n",
    "train_datagen = ImageDataGenerator(\n",
    "    rescale=1. / 255,\n",
    "    shear_range=0.2,\n",
    "    zoom_range=0.2,\n",
    "    horizontal_flip=True)\n",
    "\n",
    "# this is the augmentation configuration we will use for testing:\n",
    "# only rescaling\n",
    "test_datagen = ImageDataGenerator(rescale=1. / 255)"
   ]
  },
  {
   "cell_type": "markdown",
   "metadata": {},
   "source": [
    "### preparación de callbacks"
   ]
  },
  {
   "cell_type": "code",
   "execution_count": 32,
   "metadata": {},
   "outputs": [],
   "source": [
    "## Logs para TensorBoard \n",
    "tbCallBack = TensorBoard(log_dir='C:/Users/casa/.kaggle/competitions/dogs-vs-cats-redux-kernels-edition/logs', histogram_freq=0, write_graph=True, write_images=True)"
   ]
  },
  {
   "cell_type": "markdown",
   "metadata": {},
   "source": [
    "### preparación conjuntos train y test"
   ]
  },
  {
   "cell_type": "code",
   "execution_count": 33,
   "metadata": {},
   "outputs": [
    {
     "name": "stdout",
     "output_type": "stream",
     "text": [
      "Found 2000 images belonging to 2 classes.\n",
      "Found 802 images belonging to 2 classes.\n"
     ]
    }
   ],
   "source": [
    "train_generator = train_datagen.flow_from_directory(\n",
    "    train_data_dir,\n",
    "    target_size=(img_width, img_height),\n",
    "    batch_size=batch_size,\n",
    "    class_mode='binary')\n",
    "\n",
    "validation_generator = test_datagen.flow_from_directory(\n",
    "    validation_data_dir,\n",
    "    target_size=(img_width, img_height),\n",
    "    batch_size=batch_size,\n",
    "    class_mode='binary')\n"
   ]
  },
  {
   "cell_type": "markdown",
   "metadata": {},
   "source": [
    "### entrenamiento"
   ]
  },
  {
   "cell_type": "code",
   "execution_count": 34,
   "metadata": {},
   "outputs": [
    {
     "name": "stdout",
     "output_type": "stream",
     "text": [
      "Epoch 1/50\n",
      "125/125 [==============================] - 73s 584ms/step - loss: 0.7242 - acc: 0.5485 - val_loss: 0.6694 - val_acc: 0.5575\n",
      "Epoch 2/50\n",
      "125/125 [==============================] - 74s 593ms/step - loss: 0.6766 - acc: 0.6110 - val_loss: 0.6301 - val_acc: 0.6212\n",
      "Epoch 3/50\n",
      "125/125 [==============================] - 72s 578ms/step - loss: 0.6286 - acc: 0.6535 - val_loss: 0.7730 - val_acc: 0.5487\n",
      "Epoch 4/50\n",
      "125/125 [==============================] - 72s 577ms/step - loss: 0.6157 - acc: 0.6805 - val_loss: 0.6019 - val_acc: 0.6550\n",
      "Epoch 5/50\n",
      "125/125 [==============================] - 72s 579ms/step - loss: 0.6017 - acc: 0.6885 - val_loss: 0.6035 - val_acc: 0.6975\n",
      "Epoch 6/50\n",
      "125/125 [==============================] - 75s 600ms/step - loss: 0.5769 - acc: 0.7155 - val_loss: 0.5385 - val_acc: 0.7288\n",
      "Epoch 7/50\n",
      "125/125 [==============================] - 73s 583ms/step - loss: 0.5710 - acc: 0.6965 - val_loss: 0.5331 - val_acc: 0.7288\n",
      "Epoch 8/50\n",
      "125/125 [==============================] - 71s 571ms/step - loss: 0.5638 - acc: 0.7170 - val_loss: 0.5181 - val_acc: 0.7350\n",
      "Epoch 9/50\n",
      "125/125 [==============================] - 73s 588ms/step - loss: 0.5689 - acc: 0.7315 - val_loss: 0.5287 - val_acc: 0.7362\n",
      "Epoch 10/50\n",
      "125/125 [==============================] - 72s 579ms/step - loss: 0.5689 - acc: 0.7160 - val_loss: 0.5395 - val_acc: 0.7188\n",
      "Epoch 11/50\n",
      "125/125 [==============================] - 74s 595ms/step - loss: 0.5444 - acc: 0.7410 - val_loss: 0.6649 - val_acc: 0.7188\n",
      "Epoch 12/50\n",
      "125/125 [==============================] - 73s 585ms/step - loss: 0.5331 - acc: 0.7475 - val_loss: 0.6959 - val_acc: 0.7013\n",
      "Epoch 13/50\n",
      "125/125 [==============================] - 73s 586ms/step - loss: 0.5137 - acc: 0.7665 - val_loss: 0.6026 - val_acc: 0.7175\n",
      "Epoch 14/50\n",
      "125/125 [==============================] - 75s 597ms/step - loss: 0.5333 - acc: 0.7550 - val_loss: 0.5238 - val_acc: 0.7412\n",
      "Epoch 15/50\n",
      "125/125 [==============================] - 73s 583ms/step - loss: 0.5047 - acc: 0.7670 - val_loss: 0.5301 - val_acc: 0.7400\n",
      "Epoch 16/50\n",
      "125/125 [==============================] - 75s 596ms/step - loss: 0.5186 - acc: 0.7705 - val_loss: 0.5850 - val_acc: 0.7400\n",
      "Epoch 17/50\n",
      "125/125 [==============================] - 74s 595ms/step - loss: 0.5130 - acc: 0.7675 - val_loss: 0.5149 - val_acc: 0.7450\n",
      "Epoch 18/50\n",
      "125/125 [==============================] - 74s 591ms/step - loss: 0.5002 - acc: 0.7650 - val_loss: 0.5648 - val_acc: 0.7425\n",
      "Epoch 19/50\n",
      "125/125 [==============================] - 73s 581ms/step - loss: 0.4905 - acc: 0.7890 - val_loss: 0.5426 - val_acc: 0.7462\n",
      "Epoch 20/50\n",
      "125/125 [==============================] - 72s 574ms/step - loss: 0.4970 - acc: 0.7855 - val_loss: 0.6478 - val_acc: 0.7163\n",
      "Epoch 21/50\n",
      "125/125 [==============================] - 72s 576ms/step - loss: 0.4671 - acc: 0.7915 - val_loss: 0.5234 - val_acc: 0.7475\n",
      "Epoch 22/50\n",
      "125/125 [==============================] - 72s 577ms/step - loss: 0.4917 - acc: 0.7795 - val_loss: 0.5620 - val_acc: 0.7300\n",
      "Epoch 23/50\n",
      "125/125 [==============================] - 75s 599ms/step - loss: 0.4650 - acc: 0.7845 - val_loss: 1.2752 - val_acc: 0.6713\n",
      "Epoch 24/50\n",
      "125/125 [==============================] - 76s 608ms/step - loss: 0.4805 - acc: 0.7845 - val_loss: 0.5929 - val_acc: 0.7300\n",
      "Epoch 25/50\n",
      "125/125 [==============================] - 75s 600ms/step - loss: 0.4765 - acc: 0.7910 - val_loss: 0.6757 - val_acc: 0.7200\n",
      "Epoch 26/50\n",
      "125/125 [==============================] - 76s 606ms/step - loss: 0.4571 - acc: 0.7820 - val_loss: 0.6115 - val_acc: 0.7063\n",
      "Epoch 27/50\n",
      "125/125 [==============================] - 75s 603ms/step - loss: 0.4545 - acc: 0.7975 - val_loss: 0.5558 - val_acc: 0.7738\n",
      "Epoch 28/50\n",
      "125/125 [==============================] - 75s 597ms/step - loss: 0.4742 - acc: 0.7910 - val_loss: 0.5339 - val_acc: 0.7488\n",
      "Epoch 29/50\n",
      "125/125 [==============================] - 74s 590ms/step - loss: 0.4694 - acc: 0.8000 - val_loss: 0.5299 - val_acc: 0.7200\n",
      "Epoch 30/50\n",
      "125/125 [==============================] - 75s 603ms/step - loss: 0.4709 - acc: 0.7945 - val_loss: 0.5674 - val_acc: 0.7562\n",
      "Epoch 31/50\n",
      "125/125 [==============================] - 73s 583ms/step - loss: 0.4605 - acc: 0.7925 - val_loss: 0.5278 - val_acc: 0.7575\n",
      "Epoch 32/50\n",
      "125/125 [==============================] - 71s 572ms/step - loss: 0.4355 - acc: 0.8085 - val_loss: 0.5273 - val_acc: 0.7512\n",
      "Epoch 33/50\n",
      "125/125 [==============================] - 72s 580ms/step - loss: 0.4519 - acc: 0.7930 - val_loss: 0.5286 - val_acc: 0.7562\n",
      "Epoch 34/50\n",
      "125/125 [==============================] - 75s 597ms/step - loss: 0.4502 - acc: 0.7980 - val_loss: 0.5111 - val_acc: 0.7800\n",
      "Epoch 35/50\n",
      "125/125 [==============================] - 75s 597ms/step - loss: 0.4527 - acc: 0.8040 - val_loss: 0.5740 - val_acc: 0.7588\n",
      "Epoch 36/50\n",
      "125/125 [==============================] - 74s 588ms/step - loss: 0.4377 - acc: 0.8025 - val_loss: 0.5111 - val_acc: 0.7738\n",
      "Epoch 37/50\n",
      "125/125 [==============================] - 74s 592ms/step - loss: 0.4446 - acc: 0.7975 - val_loss: 0.5111 - val_acc: 0.7738\n",
      "Epoch 38/50\n",
      "125/125 [==============================] - 75s 598ms/step - loss: 0.4361 - acc: 0.7995 - val_loss: 0.5480 - val_acc: 0.7688\n",
      "Epoch 39/50\n",
      "125/125 [==============================] - 75s 600ms/step - loss: 0.4536 - acc: 0.7940 - val_loss: 0.5359 - val_acc: 0.7662\n",
      "Epoch 40/50\n",
      "125/125 [==============================] - 74s 594ms/step - loss: 0.4297 - acc: 0.8060 - val_loss: 0.5871 - val_acc: 0.7762\n",
      "Epoch 41/50\n",
      "125/125 [==============================] - 75s 596ms/step - loss: 0.4500 - acc: 0.8085 - val_loss: 0.5584 - val_acc: 0.7612\n",
      "Epoch 42/50\n",
      "125/125 [==============================] - 75s 599ms/step - loss: 0.4328 - acc: 0.8070 - val_loss: 0.9427 - val_acc: 0.7662\n",
      "Epoch 43/50\n",
      "125/125 [==============================] - 76s 610ms/step - loss: 0.4322 - acc: 0.8130 - val_loss: 0.5137 - val_acc: 0.7600\n",
      "Epoch 44/50\n",
      "125/125 [==============================] - 76s 611ms/step - loss: 0.4366 - acc: 0.8045 - val_loss: 0.9065 - val_acc: 0.7338\n",
      "Epoch 45/50\n",
      "125/125 [==============================] - 76s 611ms/step - loss: 0.4335 - acc: 0.8115 - val_loss: 0.6222 - val_acc: 0.7538\n",
      "Epoch 46/50\n",
      "125/125 [==============================] - 73s 587ms/step - loss: 0.4178 - acc: 0.8190 - val_loss: 0.8325 - val_acc: 0.7175\n",
      "Epoch 47/50\n",
      "125/125 [==============================] - 74s 589ms/step - loss: 0.4100 - acc: 0.8290 - val_loss: 0.5382 - val_acc: 0.7600\n",
      "Epoch 48/50\n",
      "125/125 [==============================] - 76s 605ms/step - loss: 0.4223 - acc: 0.8185 - val_loss: 0.5369 - val_acc: 0.7825\n",
      "Epoch 49/50\n",
      "125/125 [==============================] - 75s 597ms/step - loss: 0.4145 - acc: 0.8185 - val_loss: 0.6375 - val_acc: 0.7488\n",
      "Epoch 50/50\n",
      "125/125 [==============================] - 74s 591ms/step - loss: 0.4141 - acc: 0.8180 - val_loss: 0.5767 - val_acc: 0.7738\n"
     ]
    }
   ],
   "source": [
    "history = model.fit_generator(\n",
    "    train_generator,\n",
    "    steps_per_epoch=nb_train_samples // batch_size,\n",
    "    epochs=epochs,\n",
    "    validation_data=validation_generator,\n",
    "    validation_steps=nb_validation_samples // batch_size,\n",
    "    callbacks=[tbCallBack])\n",
    "\n",
    "model.save_weights('first_try.h5')"
   ]
  },
  {
   "cell_type": "markdown",
   "metadata": {},
   "source": [
    "### dibujar el resultado del entrenamiento"
   ]
  },
  {
   "cell_type": "code",
   "execution_count": 37,
   "metadata": {},
   "outputs": [
    {
     "name": "stdout",
     "output_type": "stream",
     "text": [
      "dict_keys(['val_loss', 'val_acc', 'loss', 'acc'])\n"
     ]
    },
    {
     "data": {
      "image/png": "[encoded data removed]",
      "text/plain": [
       "<Figure size 432x288 with 1 Axes>"
      ]
     },
     "metadata": {},
     "output_type": "display_data"
    },
    {
     "data": {
      "image/png": "[encoded data removed]",
      "text/plain": [
       "<Figure size 432x288 with 1 Axes>"
      ]
     },
     "metadata": {},
     "output_type": "display_data"
    }
   ],
   "source": [
    "# list all data in history\n",
    "print(history.history.keys())\n",
    "# summarize history for accuracy\n",
    "plt.plot(history.history['acc'])\n",
    "plt.plot(history.history['val_acc'])\n",
    "plt.title('model accuracy')\n",
    "plt.ylabel('accuracy')\n",
    "plt.xlabel('epoch')\n",
    "plt.legend(['train', 'test'], loc='upper left')\n",
    "plt.show()\n",
    "# summarize history for loss\n",
    "plt.plot(history.history['loss'])\n",
    "plt.plot(history.history['val_loss'])\n",
    "plt.title('model loss')\n",
    "plt.ylabel('loss')\n",
    "plt.xlabel('epoch')\n",
    "plt.legend(['train', 'test'], loc='upper left')\n",
    "plt.show()"
   ]
  }
 ],
 "metadata": {
  "kernelspec": {
   "display_name": "Python 3",
   "language": "python",
   "name": "python3"
  },
  "language_info": {
   "codemirror_mode": {
    "name": "ipython",
    "version": 3
   },
   "file_extension": ".py",
   "mimetype": "text/x-python",
   "name": "python",
   "nbconvert_exporter": "python",
   "pygments_lexer": "ipython3",
   "version": "3.5.5"
  }
 },
 "nbformat": 4,
 "nbformat_minor": 2
}
